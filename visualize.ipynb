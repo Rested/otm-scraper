{
 "cells": [
  {
   "cell_type": "code",
   "execution_count": 38,
   "metadata": {},
   "outputs": [],
   "source": [
    "# import some packages we will need\n",
    "import pandas as pd\n",
    "from ipyleaflet import Map, basemaps, Marker\n",
    "from scrape_otm import LONDON_LAT_LON\n",
    "import seaborn as sns"
   ]
  },
  {
   "cell_type": "code",
   "execution_count": 20,
   "metadata": {
    "pycharm": {
     "name": "#%%\n"
    }
   },
   "outputs": [
    {
     "data": {
      "text/html": [
       "<div>\n",
       "<style scoped>\n",
       "    .dataframe tbody tr th:only-of-type {\n",
       "        vertical-align: middle;\n",
       "    }\n",
       "\n",
       "    .dataframe tbody tr th {\n",
       "        vertical-align: top;\n",
       "    }\n",
       "\n",
       "    .dataframe thead th {\n",
       "        text-align: right;\n",
       "    }\n",
       "</style>\n",
       "<table border=\"1\" class=\"dataframe\">\n",
       "  <thead>\n",
       "    <tr style=\"text-align: right;\">\n",
       "      <th></th>\n",
       "      <th>property_id</th>\n",
       "      <th>lat</th>\n",
       "      <th>lon</th>\n",
       "      <th>miles_from_london</th>\n",
       "      <th>cost</th>\n",
       "      <th>acres</th>\n",
       "    </tr>\n",
       "  </thead>\n",
       "  <tbody>\n",
       "    <tr>\n",
       "      <th>39</th>\n",
       "      <td>10164160</td>\n",
       "      <td>50.365879</td>\n",
       "      <td>-4.053420</td>\n",
       "      <td>190.342153</td>\n",
       "      <td>350000.0</td>\n",
       "      <td>500.00</td>\n",
       "    </tr>\n",
       "    <tr>\n",
       "      <th>206</th>\n",
       "      <td>10225478</td>\n",
       "      <td>52.091721</td>\n",
       "      <td>-3.662110</td>\n",
       "      <td>158.429406</td>\n",
       "      <td>400000.0</td>\n",
       "      <td>14.00</td>\n",
       "    </tr>\n",
       "    <tr>\n",
       "      <th>207</th>\n",
       "      <td>10223205</td>\n",
       "      <td>52.160651</td>\n",
       "      <td>-4.163105</td>\n",
       "      <td>180.274250</td>\n",
       "      <td>495000.0</td>\n",
       "      <td>23.00</td>\n",
       "    </tr>\n",
       "    <tr>\n",
       "      <th>212</th>\n",
       "      <td>10221851</td>\n",
       "      <td>52.111789</td>\n",
       "      <td>-4.182077</td>\n",
       "      <td>180.341986</td>\n",
       "      <td>415000.0</td>\n",
       "      <td>2.30</td>\n",
       "    </tr>\n",
       "    <tr>\n",
       "      <th>226</th>\n",
       "      <td>9842376</td>\n",
       "      <td>52.296345</td>\n",
       "      <td>-4.060220</td>\n",
       "      <td>178.401450</td>\n",
       "      <td>499995.0</td>\n",
       "      <td>15.50</td>\n",
       "    </tr>\n",
       "    <tr>\n",
       "      <th>...</th>\n",
       "      <td>...</td>\n",
       "      <td>...</td>\n",
       "      <td>...</td>\n",
       "      <td>...</td>\n",
       "      <td>...</td>\n",
       "      <td>...</td>\n",
       "    </tr>\n",
       "    <tr>\n",
       "      <th>3021</th>\n",
       "      <td>9614800</td>\n",
       "      <td>53.272029</td>\n",
       "      <td>-0.415132</td>\n",
       "      <td>122.738624</td>\n",
       "      <td>650000.0</td>\n",
       "      <td>6.00</td>\n",
       "    </tr>\n",
       "    <tr>\n",
       "      <th>3078</th>\n",
       "      <td>8299552</td>\n",
       "      <td>53.480467</td>\n",
       "      <td>-0.429814</td>\n",
       "      <td>137.131000</td>\n",
       "      <td>695000.0</td>\n",
       "      <td>22.00</td>\n",
       "    </tr>\n",
       "    <tr>\n",
       "      <th>3715</th>\n",
       "      <td>9432027</td>\n",
       "      <td>51.657290</td>\n",
       "      <td>-0.135248</td>\n",
       "      <td>10.508271</td>\n",
       "      <td>1925000.0</td>\n",
       "      <td>413.00</td>\n",
       "    </tr>\n",
       "    <tr>\n",
       "      <th>4580</th>\n",
       "      <td>9779217</td>\n",
       "      <td>52.605181</td>\n",
       "      <td>1.575835</td>\n",
       "      <td>103.807925</td>\n",
       "      <td>695000.0</td>\n",
       "      <td>4.00</td>\n",
       "    </tr>\n",
       "    <tr>\n",
       "      <th>4841</th>\n",
       "      <td>7033615</td>\n",
       "      <td>51.167000</td>\n",
       "      <td>1.240180</td>\n",
       "      <td>62.138070</td>\n",
       "      <td>1550000.0</td>\n",
       "      <td>42.79</td>\n",
       "    </tr>\n",
       "  </tbody>\n",
       "</table>\n",
       "<p>62 rows × 6 columns</p>\n",
       "</div>"
      ],
      "text/plain": [
       "     property_id        lat       lon  miles_from_london       cost   acres\n",
       "39      10164160  50.365879 -4.053420         190.342153   350000.0  500.00\n",
       "206     10225478  52.091721 -3.662110         158.429406   400000.0   14.00\n",
       "207     10223205  52.160651 -4.163105         180.274250   495000.0   23.00\n",
       "212     10221851  52.111789 -4.182077         180.341986   415000.0    2.30\n",
       "226      9842376  52.296345 -4.060220         178.401450   499995.0   15.50\n",
       "...          ...        ...       ...                ...        ...     ...\n",
       "3021     9614800  53.272029 -0.415132         122.738624   650000.0    6.00\n",
       "3078     8299552  53.480467 -0.429814         137.131000   695000.0   22.00\n",
       "3715     9432027  51.657290 -0.135248          10.508271  1925000.0  413.00\n",
       "4580     9779217  52.605181  1.575835         103.807925   695000.0    4.00\n",
       "4841     7033615  51.167000  1.240180          62.138070  1550000.0   42.79\n",
       "\n",
       "[62 rows x 6 columns]"
      ]
     },
     "execution_count": 20,
     "metadata": {},
     "output_type": "execute_result"
    }
   ],
   "source": [
    "df = pd.read_parquet(\"outputs/parquet/2021-04-03.parquet\")\n",
    "with_land = df[pd.isnull(df.acres) == False]\n",
    "with_land"
   ]
  },
  {
   "cell_type": "code",
   "execution_count": 21,
   "metadata": {
    "pycharm": {
     "name": "#%%\n"
    }
   },
   "outputs": [
    {
     "data": {
      "application/vnd.jupyter.widget-view+json": {
       "model_id": "35642d580cab494387522b582e7a2d65",
       "version_major": 2,
       "version_minor": 0
      },
      "text/plain": [
       "Map(center=[51.508238335659364, -0.08742724405779281], controls=(ZoomControl(options=['position', 'zoom_in_tex…"
      ]
     },
     "metadata": {},
     "output_type": "display_data"
    }
   ],
   "source": [
    "points_map = Map(center=LONDON_LAT_LON, basemap=basemaps.Esri.DeLorme, zoom=6)\n",
    "for row in with_land.itertuples():\n",
    "    points_map.add_layer(Marker(location=(row.lat, row.lon), dragable=False))\n",
    "points_map"
   ]
  },
  {
   "cell_type": "code",
   "execution_count": 25,
   "metadata": {
    "pycharm": {
     "name": "#%%\n"
    }
   },
   "outputs": [
    {
     "data": {
      "text/plain": [
       "<AxesSubplot:xlabel='miles_from_london', ylabel='acres'>"
      ]
     },
     "execution_count": 25,
     "metadata": {},
     "output_type": "execute_result"
    },
    {
     "data": {
      "image/png": "[encoded data removed]",
      "text/plain": [
       "<Figure size 432x288 with 1 Axes>"
      ]
     },
     "metadata": {
      "needs_background": "light"
     },
     "output_type": "display_data"
    }
   ],
   "source": [
    "with_land.plot(x=\"miles_from_london\", y=\"acres\", kind=\"scatter\")"
   ]
  },
  {
   "cell_type": "code",
   "execution_count": 42,
   "metadata": {},
   "outputs": [
    {
     "data": {
      "text/plain": [
       "<AxesSubplot:xlabel='miles_from_london', ylabel='cost'>"
      ]
     },
     "execution_count": 42,
     "metadata": {},
     "output_type": "execute_result"
    },
    {
     "data": {
      "image/png": "[encoded data removed]",
      "text/plain": [
       "<Figure size 432x288 with 1 Axes>"
      ]
     },
     "metadata": {
      "needs_background": "light"
     },
     "output_type": "display_data"
    }
   ],
   "source": [
    "sns.regplot(x=df['miles_from_london'],y=df['cost'], scatter=False) # house price vs distance from london"
   ]
  },
  {
   "cell_type": "code",
   "execution_count": 47,
   "metadata": {},
   "outputs": [
    {
     "data": {
      "text/plain": [
       "<AxesSubplot:xlabel='miles_from_london', ylabel='acres'>"
      ]
     },
     "execution_count": 47,
     "metadata": {},
     "output_type": "execute_result"
    },
    {
     "data": {
      "image/png": "[encoded data removed]",
      "text/plain": [
       "<Figure size 432x288 with 1 Axes>"
      ]
     },
     "metadata": {
      "needs_background": "light"
     },
     "output_type": "display_data"
    }
   ],
   "source": [
    "sns.regplot(x=with_land[\"miles_from_london\"], y=with_land[\"acres\"], scatter=True, robust=True) \n",
    "# acres vs distance from london\n",
    "# robust = true to deweight the outliers"
   ]
  },
  {
   "cell_type": "code",
   "execution_count": null,
   "outputs": [],
   "source": [
    "sns.regplot(x=with_land[\"cost\"], y=with_land[\"acres\"], scatter=True, robust=True) \n",
    "# as you would expect more acres cost more"
   ],
   "metadata": {
    "collapsed": false,
    "pycharm": {
     "name": "#%%\n"
    }
   }
  },
  {
   "cell_type": "code",
   "execution_count": 48,
   "metadata": {},
   "outputs": [
    {
     "data": {
      "text/plain": [
       "<AxesSubplot:xlabel='cost', ylabel='acres'>"
      ]
     },
     "execution_count": 48,
     "metadata": {},
     "output_type": "execute_result"
    },
    {
     "data": {
      "image/png": "[encoded data removed]",
      "text/plain": [
       "<Figure size 432x288 with 1 Axes>"
      ]
     },
     "metadata": {
      "needs_background": "light"
     },
     "output_type": "display_data"
    }
   ],
   "source": []
  },
  {
   "cell_type": "code",
   "execution_count": null,
   "metadata": {},
   "outputs": [],
   "source": []
  }
 ],
 "metadata": {
  "kernelspec": {
   "display_name": "Python 3",
   "language": "python",
   "name": "python3"
  },
  "language_info": {
   "codemirror_mode": {
    "name": "ipython",
    "version": 3
   },
   "file_extension": ".py",
   "mimetype": "text/x-python",
   "name": "python",
   "nbconvert_exporter": "python",
   "pygments_lexer": "ipython3",
   "version": "3.8.1"
  }
 },
 "nbformat": 4,
 "nbformat_minor": 1
}